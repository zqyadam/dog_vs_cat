{
 "cells": [
  {
   "cell_type": "markdown",
   "metadata": {},
   "source": [
    "# 预处理数据"
   ]
  },
  {
   "cell_type": "markdown",
   "metadata": {},
   "source": [
    "## 预处理数据集"
   ]
  },
  {
   "cell_type": "markdown",
   "metadata": {},
   "source": [
    "参考文章：https://zhuanlan.zhihu.com/p/34068451"
   ]
  },
  {
   "cell_type": "markdown",
   "metadata": {},
   "source": [
    "### 异常数据处理"
   ]
  },
  {
   "cell_type": "code",
   "execution_count": null,
   "metadata": {
    "collapsed": true
   },
   "outputs": [],
   "source": [
    "# imagenet上的猫和狗的类别\n",
    "dogs_categories = [\n",
    " 'n02085620','n02085782','n02085936','n02086079','n02086240','n02086646','n02086910','n02087046'\n",
    ",'n02087394','n02088094','n02088238','n02088364','n02088466','n02088632','n02089078','n02089867'\n",
    ",'n02089973','n02090379','n02090622','n02090721','n02091032','n02091134','n02091244','n02091467'\n",
    ",'n02091635','n02091831','n02092002','n02092339','n02093256','n02093428','n02093647','n02093754'\n",
    ",'n02093859','n02093991','n02094114','n02094258','n02094433','n02095314','n02095570','n02095889'\n",
    ",'n02096051','n02096177','n02096294','n02096437','n02096585','n02097047','n02097130','n02097209'\n",
    ",'n02097298','n02097474','n02097658','n02098105','n02098286','n02098413','n02099267','n02099429'\n",
    ",'n02099601','n02099712','n02099849','n02100236','n02100583','n02100735','n02100877','n02101006'\n",
    ",'n02101388','n02101556','n02102040','n02102177','n02102318','n02102480','n02102973','n02104029'\n",
    ",'n02104365','n02105056','n02105162','n02105251','n02105412','n02105505','n02105641','n02105855'\n",
    ",'n02106030','n02106166','n02106382','n02106550','n02106662','n02107142','n02107312','n02107574'\n",
    ",'n02107683','n02107908','n02108000','n02108089','n02108422','n02108551','n02108915','n02109047'\n",
    ",'n02109525','n02109961','n02110063','n02110185','n02110341','n02110627','n02110806','n02110958'\n",
    ",'n02111129','n02111277','n02111500','n02111889','n02112018','n02112137','n02112350','n02112706'\n",
    ",'n02113023','n02113186','n02113624','n02113712','n02113799','n02113978']\n",
    "\n",
    "cats_categories = ['n02123045','n02123159','n02123394','n02123597','n02124075','n02125311','n02127052']\n",
    "\n",
    "# top-N\n",
    "top_num = 50\n",
    "\n",
    "# 数据集路径\n",
    "dataset_path = './data/'"
   ]
  },
  {
   "cell_type": "code",
   "execution_count": null,
   "metadata": {
    "collapsed": true
   },
   "outputs": [],
   "source": [
    "from keras.preprocessing import image\n",
    "import numpy as np"
   ]
  },
  {
   "cell_type": "code",
   "execution_count": null,
   "metadata": {
    "collapsed": true
   },
   "outputs": [],
   "source": [
    "# 判断是否是猫狗中的一种\n",
    "def is_cat_or_dog(preds):\n",
    "    for pred in preds:\n",
    "        if pred[0] in (dogs_categories+cats_categories):\n",
    "            return True\n",
    "    return False\n",
    "\n",
    "# 排除异常值\n",
    "# model_name --- 模型名称：xception, inception_resnet_v2, densenet201\n",
    "# top_num --- top-N\n",
    "# img_dir --- 图片存放路径\n",
    "def exclude_outliers(model_name='xception', top_num=5, img_dir='train/'):\n",
    "    # import models\n",
    "    if model_name == 'xception':\n",
    "        from keras.applications.xception import Xception, preprocess_input, decode_predictions\n",
    "        model = Xception(weights='imagenet')\n",
    "        img_size = (299, 299)\n",
    "    elif model_name == 'inception_resnet_v2':\n",
    "        from keras.applications.inception_resnet_v2 import InceptionResNetV2, preprocess_input, decode_predictions\n",
    "        model = InceptionResNetV2(weights='imagenet')\n",
    "        img_size = (299, 299)\n",
    "    elif model_name == 'densenet201':\n",
    "        from keras.applications.densenet import DenseNet201, preprocess_input, decode_predictions\n",
    "        model = DenseNet201(weights='imagenet')\n",
    "        img_size = (224, 224)\n",
    "\n",
    "    img_dir = dataset_path + img_dir\n",
    "    img_list = os.listdir(img_dir)\n",
    "    outliers = []\n",
    "    for img_name in img_list:\n",
    "        if img_name == 'Thumbs.db':\n",
    "            continue\n",
    "        img_path = img_dir + img_name\n",
    "        img = image.load_img(img_path, target_size=img_size) #os.readlink(img_path)\n",
    "        x = image.img_to_array(img)\n",
    "        x = np.expand_dims(x, axis=0)\n",
    "        x = preprocess_input(x)\n",
    "\n",
    "        pred = model.predict(x)\n",
    "        pred = decode_predictions(pred, top=top_num)[0]\n",
    "        if not is_cat_or_dog(pred):\n",
    "            outliers.append(img_name)\n",
    "    return outliers\n",
    "\n",
    "\n",
    "#     通过generator实现\n",
    "#     img_dir = dataset_path + 'some_samples/'\n",
    "#     gen = image.ImageDataGenerator()\n",
    "#     img_generator = gen.flow_from_directory(img_dir, target_size=img_size, shuffle=False)\n",
    "#     print(img_generator)\n",
    "#     preds = model.predict_generator(img_generator, verbose=1)\n",
    "    \n",
    "#     decode_preds = decode_predictions(preds, top=top_num)\n",
    "#     outliers = []\n",
    "\n",
    "#     for pred, filename in zip(decode_preds, img_generator.filenames):\n",
    "#         print(filename)\n",
    "#         print(pred)\n",
    "#         print(is_cat_or_dog(pred))\n",
    "#         if not is_cat_or_dog(pred):\n",
    "#             outliers.append(filename)\n",
    "#     return outliers"
   ]
  },
  {
   "cell_type": "markdown",
   "metadata": {},
   "source": [
    "### 利用xception网络识别图片"
   ]
  },
  {
   "cell_type": "code",
   "execution_count": null,
   "metadata": {
    "collapsed": true
   },
   "outputs": [],
   "source": [
    "def exclude_outliers_xception(top_num=top_num, img_dir='train/')：\n",
    "    from keras.applications.xception import Xception, preprocess_input, decode_predictions\n",
    "    model = Xception(weights='imagenet')\n",
    "    img_size = (299, 299)\n",
    "    \n",
    "    img_dir = dataset_path + img_dir\n",
    "    img_list = os.listdir(img_dir)\n",
    "    outliers = []\n",
    "    for img_name in img_list:\n",
    "        if img_name == 'Thumbs.db':\n",
    "            continue\n",
    "        img_path = img_dir + img_name\n",
    "        img = image.load_img(img_path, target_size=img_size) #os.readlink(img_path)\n",
    "        x = image.img_to_array(img)\n",
    "        x = np.expand_dims(x, axis=0)\n",
    "        x = preprocess_input(x)\n",
    "\n",
    "        pred = model.predict(x)\n",
    "        pred = decode_predictions(pred, top=top_num)[0]\n",
    "        if not is_cat_or_dog(pred):\n",
    "            outliers.append(img_name)\n",
    "    return outliers\n",
    "    "
   ]
  },
  {
   "cell_type": "code",
   "execution_count": null,
   "metadata": {
    "collapsed": true
   },
   "outputs": [],
   "source": [
    "outliers_xception = exclude_outliers(model_name='xception',top_num=top_num)\n",
    "print(outliers_xception)"
   ]
  },
  {
   "cell_type": "markdown",
   "metadata": {},
   "source": [
    "### 利用inception_resnet_v2网络识别图片"
   ]
  },
  {
   "cell_type": "code",
   "execution_count": null,
   "metadata": {
    "collapsed": true
   },
   "outputs": [],
   "source": [
    "outliers_inception_resnet_v2 = exclude_outliers(model_name='inception_resnet_v2',top_num=top_num)\n",
    "print(outliers_inception_resnet_v2)"
   ]
  },
  {
   "cell_type": "markdown",
   "metadata": {},
   "source": [
    "### 利用densenet201网络识别图片"
   ]
  },
  {
   "cell_type": "code",
   "execution_count": null,
   "metadata": {
    "collapsed": true
   },
   "outputs": [],
   "source": [
    "outliers_densenet201 = exclude_outliers(model_name='densenet201',top_num=top_num)\n",
    "print(outliers_densenet201)"
   ]
  },
  {
   "cell_type": "markdown",
   "metadata": {},
   "source": [
    "### 求并集并将文件名称写入outliers.txt文件"
   ]
  },
  {
   "cell_type": "code",
   "execution_count": null,
   "metadata": {
    "collapsed": true
   },
   "outputs": [],
   "source": [
    "outliers = list(set(outliers_xception+outliers_inception_resnet_v2+ outliers_densenet201))\n",
    "print(outliers)\n",
    "\n",
    "outliers_file_path = './outliers.txt'\n",
    "\n",
    "if os.path.isfile(outliers_file_path):\n",
    "    os.remove(outliers_file_path)\n",
    "with open(outliers_file_path, 'w') as f:\n",
    "    f.write('\\n'.join(outliers))\n"
   ]
  },
  {
   "cell_type": "markdown",
   "metadata": {},
   "source": [
    "### 从outliers.txt文件中读取所识别的异常文件名称"
   ]
  },
  {
   "cell_type": "code",
   "execution_count": null,
   "metadata": {
    "collapsed": true
   },
   "outputs": [],
   "source": [
    "outliers_file_path = './outliers.txt'\n",
    "with open(outliers_file_path, 'r') as f:\n",
    "    outliers_str = f.read()\n",
    "    outliers = outliers_str.split('\\n')\n",
    "    print(outliers)"
   ]
  },
  {
   "cell_type": "markdown",
   "metadata": {},
   "source": [
    "### 展示异常图片"
   ]
  },
  {
   "cell_type": "code",
   "execution_count": null,
   "metadata": {
    "collapsed": true
   },
   "outputs": [],
   "source": [
    "def align_figures():\n",
    "    import matplotlib\n",
    "    from matplotlib._pylab_helpers import Gcf\n",
    "    from IPython.display import display_html\n",
    "    import base64\n",
    "    from ipykernel.pylab.backend_inline import show\n",
    "\n",
    "    images = []\n",
    "    for figure_manager in Gcf.get_all_fig_managers():\n",
    "        fig = figure_manager.canvas.figure\n",
    "        png = get_ipython().display_formatter.format(fig)[0]['image/png']\n",
    "        src = base64.encodebytes(png).decode()\n",
    "        images.append('<img style=\"margin:0\" align=\"left\" src=\"data:image/png;base64,{}\"/>'.format(src))\n",
    "\n",
    "    html = \"<div>{}</div>\".format(\"\".join(images))\n",
    "    show._draw_called = False\n",
    "    matplotlib.pyplot.close('all')\n",
    "    display_html(html, raw=True)\n",
    "    \n",
    "def show_images(img_list, img_path, col_num=5):\n",
    "    plt.figure(dpi=150)\n",
    "    for i in range(len(img_list)):\n",
    "        img = plt.imread(img_path+img_list[i])\n",
    "        plt.subplot(len(img_list)//col_num+1, col_num, i+1)\n",
    "        plt.title(img_list[i], fontsize=8)\n",
    "        plt.axis('off')\n",
    "        plt.imshow(img)\n",
    "    align_figures()"
   ]
  },
  {
   "cell_type": "code",
   "execution_count": null,
   "metadata": {
    "collapsed": true
   },
   "outputs": [],
   "source": [
    "show_num = 10\n",
    "for i in range(len(outliers)//show_num+1):\n",
    "    show_images(outliers[i*show_num:(i+1)*show_num], dataset_path+'train/',5)\n"
   ]
  },
  {
   "cell_type": "markdown",
   "metadata": {},
   "source": [
    "> 根据上面的图片，手动排除正确的猫狗（也就是识别错误的），将真正的异常值写入`real_outliers.txt`文件"
   ]
  }
 ],
 "metadata": {
  "kernelspec": {
   "display_name": "keras",
   "language": "python",
   "name": "keras"
  },
  "language_info": {
   "codemirror_mode": {
    "name": "ipython",
    "version": 3
   },
   "file_extension": ".py",
   "mimetype": "text/x-python",
   "name": "python",
   "nbconvert_exporter": "python",
   "pygments_lexer": "ipython3",
   "version": "3.6.2"
  }
 },
 "nbformat": 4,
 "nbformat_minor": 2
}
