{
 "cells": [
  {
   "cell_type": "markdown",
   "metadata": {},
   "source": [
    "# 初始化环境"
   ]
  },
  {
   "cell_type": "markdown",
   "metadata": {},
   "source": [
    "1. 安装kaggle-cli\n",
    "2. 使用kaggle-cli下载猫狗数据集\n",
    "3. 解压猫狗数据集"
   ]
  },
  {
   "cell_type": "markdown",
   "metadata": {},
   "source": [
    "## 安装Kaggle-cli"
   ]
  },
  {
   "cell_type": "code",
   "execution_count": 1,
   "metadata": {
    "scrolled": true
   },
   "outputs": [
    {
     "name": "stdout",
     "output_type": "stream",
     "text": [
      "Requirement already satisfied: kaggle in d:\\programdata\\anaconda2\\envs\\keras\\lib\\site-packages\n",
      "Requirement already satisfied: six>=1.10 in d:\\programdata\\anaconda2\\envs\\keras\\lib\\site-packages (from kaggle)\n",
      "Requirement already satisfied: tqdm in d:\\programdata\\anaconda2\\envs\\keras\\lib\\site-packages (from kaggle)\n",
      "Requirement already satisfied: python-dateutil in d:\\programdata\\anaconda2\\envs\\keras\\lib\\site-packages (from kaggle)\n",
      "Requirement already satisfied: urllib3>=1.15 in d:\\programdata\\anaconda2\\envs\\keras\\lib\\site-packages (from kaggle)\n",
      "Requirement already satisfied: requests in d:\\programdata\\anaconda2\\envs\\keras\\lib\\site-packages (from kaggle)\n",
      "Requirement already satisfied: certifi in d:\\programdata\\anaconda2\\envs\\keras\\lib\\site-packages (from kaggle)\n",
      "Requirement already satisfied: chardet<3.1.0,>=3.0.2 in d:\\programdata\\anaconda2\\envs\\keras\\lib\\site-packages (from requests->kaggle)\n",
      "Requirement already satisfied: idna<2.7,>=2.5 in d:\\programdata\\anaconda2\\envs\\keras\\lib\\site-packages (from requests->kaggle)\n"
     ]
    }
   ],
   "source": [
    "!pip install kaggle"
   ]
  },
  {
   "cell_type": "markdown",
   "metadata": {},
   "source": [
    "## 下载猫狗数据集"
   ]
  },
  {
   "cell_type": "code",
   "execution_count": null,
   "metadata": {
    "collapsed": true
   },
   "outputs": [],
   "source": [
    "!kaggle competitions download -c dogs-vs-cats-redux-kernels-edition -p data"
   ]
  },
  {
   "cell_type": "markdown",
   "metadata": {},
   "source": [
    "## 解压数据集"
   ]
  },
  {
   "cell_type": "code",
   "execution_count": 3,
   "metadata": {},
   "outputs": [
    {
     "name": "stdout",
     "output_type": "stream",
     "text": [
      "Found train.zip Data\n",
      "Found test.zip Data\n"
     ]
    }
   ],
   "source": [
    "import zipfile\n",
    "import os\n",
    "#     train_dataset_zip_path = './data/dogs-vs-cats-redux-kernels-edition/train.zip'\n",
    "#     test_dataset_zip_path = './data/dogs-vs-cats-redux-kernels-edition/test.zip'\n",
    "\n",
    "dataset_path = './data/'\n",
    "\n",
    "train_dataset_zip_path = './data/train.zip'\n",
    "test_dataset_zip_path = './data/test.zip'\n",
    "\n",
    "def unzip(save_path, data_path, data_name):\n",
    "    \"\"\"\n",
    "    Unzip wrapper with the same interface as _ungzip\n",
    "    :param save_path: The path of the zip files\n",
    "    :param data_path: Path to extract to\n",
    "    :param data_name: Name of dataset\n",
    "    \"\"\"\n",
    "    if not os.path.exists(save_path):\n",
    "        print('File {} does not exist'.format(data_name))\n",
    "        return\n",
    "\n",
    "    print('Extracting data {} ...'.format(data_name))\n",
    "    with zipfile.ZipFile(save_path) as zf:\n",
    "        zf.extractall(data_path)\n",
    "        print('Extract {} Finish!'.format(data_name))\n",
    "\n",
    "\n",
    "\n",
    "if not os.path.exists(dataset_path + 'train'):\n",
    "    unzip(train_dataset_zip_path, dataset_path, 'train.zip')\n",
    "else:\n",
    "    print('Found {} Data'.format('train.zip'))\n",
    "\n",
    "if not os.path.exists(dataset_path + 'test'):\n",
    "    unzip(test_dataset_zip_path, dataset_path, 'test.zip')\n",
    "else:\n",
    "    print('Found {} Data'.format('test.zip'))"
   ]
  }
 ],
 "metadata": {
  "kernelspec": {
   "display_name": "keras",
   "language": "python",
   "name": "keras"
  },
  "language_info": {
   "codemirror_mode": {
    "name": "ipython",
    "version": 3
   },
   "file_extension": ".py",
   "mimetype": "text/x-python",
   "name": "python",
   "nbconvert_exporter": "python",
   "pygments_lexer": "ipython3",
   "version": "3.6.2"
  }
 },
 "nbformat": 4,
 "nbformat_minor": 2
}
